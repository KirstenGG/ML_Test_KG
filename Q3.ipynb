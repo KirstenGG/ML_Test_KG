{
 "cells": [
  {
   "cell_type": "markdown",
   "id": "2462c4af-5995-495d-9d29-4e51ca734b77",
   "metadata": {},
   "source": [
    "## What's logistic regression?"
   ]
  },
  {
   "cell_type": "code",
   "execution_count": null,
   "id": "7e1fe357-e64e-4f13-82b2-66f5900216cd",
   "metadata": {},
   "outputs": [],
   "source": [
    "'''\n",
    "1. logistic regression is a predictive statistic model.\n",
    "\n",
    "2. It is often used to estimate the relationship between the dependent variable and \n",
    "independent variable(s).\n",
    "\n",
    "3. The outcome of the model is binary. The output, which represents the probability \n",
    "of the depedent variable, is used to classify the output into one of the two \n",
    "categories: yes or no, true or false, 0 or 1.\n",
    "\n",
    "4. It is often used to solve binary classsification problems.\n",
    "\n",
    "'''"
   ]
  },
  {
   "cell_type": "markdown",
   "id": "85501f92-ab44-4543-8d32-f74f214b6e5f",
   "metadata": {},
   "source": [
    "## Why do we use this regression technique to model classification tasks?"
   ]
  },
  {
   "cell_type": "code",
   "execution_count": null,
   "id": "fedad60b-1c68-4c14-86f5-0f96410359ba",
   "metadata": {},
   "outputs": [],
   "source": [
    "'''\n",
    "1. provide the probability framework to estimate the probability of each classification\n",
    "2. simple and easy to explain\n",
    "3. good for binary classification\n",
    "4. more efficient than complex models\n",
    "\n",
    "'''"
   ]
  },
  {
   "cell_type": "markdown",
   "id": "fec5081f-a7af-4670-ae17-57decbe06f86",
   "metadata": {},
   "source": [
    "## Can you think of a situation where we can use logistic regression for a regression task?"
   ]
  },
  {
   "cell_type": "code",
   "execution_count": null,
   "id": "98bb8b91-bed0-405a-91e3-2d11e2a1124a",
   "metadata": {},
   "outputs": [],
   "source": [
    "'''\n",
    "to predict the likelihood if a patient will develop certain desease, or if certain weather will occur\n",
    "\n",
    "'''"
   ]
  },
  {
   "cell_type": "markdown",
   "id": "701ede8e-46b0-4d62-b764-7d9d484e0a2e",
   "metadata": {},
   "source": [
    "## How will you use logistics regression to model multi-class classification?"
   ]
  },
  {
   "cell_type": "code",
   "execution_count": null,
   "id": "f7d2c114-6357-4cc1-86dd-b5a8912bd767",
   "metadata": {},
   "outputs": [],
   "source": [
    "'''\n",
    "Two approaches can be deployed: One-vs-Rest(OvR) and One-vs-One (OvO)\n",
    "\n",
    "OvR\n",
    "For each class, a seperate logistic regression model will be trained. For a given class, \n",
    "the target variable for the instance of this class is 1 and all the other classes 0. \n",
    "The model will learn to distinguish the given class from all the other ones.\n",
    "\n",
    "OvO\n",
    "The model will train the data in paired classes. \n",
    "Each time the model is trained to classify the instance in one of the class to distinguish the two.\n",
    "Fore the new instances, the model will then classify it into the class with higher probaiblity.\n",
    "\n",
    "OvR might be better for scalability while OvO is easier to train and manage.\n",
    "\n",
    "'''"
   ]
  }
 ],
 "metadata": {
  "kernelspec": {
   "display_name": "Python 3 (ipykernel)",
   "language": "python",
   "name": "python3"
  },
  "language_info": {
   "codemirror_mode": {
    "name": "ipython",
    "version": 3
   },
   "file_extension": ".py",
   "mimetype": "text/x-python",
   "name": "python",
   "nbconvert_exporter": "python",
   "pygments_lexer": "ipython3",
   "version": "3.11.5"
  }
 },
 "nbformat": 4,
 "nbformat_minor": 5
}
